{
  "nbformat": 4,
  "nbformat_minor": 0,
  "metadata": {
    "colab": {
      "name": "TurkishMovieSentimentAnalysis.ipynb",
      "provenance": [],
      "collapsed_sections": []
    },
    "kernelspec": {
      "display_name": "Python 3",
      "name": "python3"
    },
    "language_info": {
      "name": "python"
    }
  },
  "cells": [
    {
      "cell_type": "markdown",
      "metadata": {
        "id": "grpH6KUv7jxK"
      },
      "source": [
        "# Turkish Movie adlı verisetine Duygu Analizi Uygulanması"
      ]
    },
    {
      "cell_type": "markdown",
      "metadata": {
        "id": "QpHPUv24_b2Y"
      },
      "source": [
        "## 1. Veri Yüklenmesi ve Ön işleme"
      ]
    },
    {
      "cell_type": "code",
      "metadata": {
        "id": "iRwx1tllu8eZ"
      },
      "source": [
        "import pandas as pd\n",
        "import numpy as np\n",
        "import matplotlib.pyplot as plt\n",
        "import plotly.express as px\n",
        "import re"
      ],
      "execution_count": 1,
      "outputs": []
    },
    {
      "cell_type": "code",
      "metadata": {
        "id": "fWR7pMWKu-xB"
      },
      "source": [
        "df = pd.read_csv('turkish_movie_sentiment_dataset.csv', decimal=\",\")"
      ],
      "execution_count": 2,
      "outputs": []
    },
    {
      "cell_type": "code",
      "metadata": {
        "colab": {
          "base_uri": "https://localhost:8080/",
          "height": 517
        },
        "id": "RjhAmRcoWGdR",
        "outputId": "2380de8e-47aa-4645-8dd9-779d149d6d48"
      },
      "source": [
        "count = pd.DataFrame(df.point.value_counts()).sort_index(ascending=False)\n",
        "count.columns = ['count']\n",
        "fig = px.pie(count, values='count', names=count.index, title='Distribution of points', width=800, height=500)\n",
        "fig.show()"
      ],
      "execution_count": 3,
      "outputs": [
        {
          "output_type": "display_data",
          "data": {
            "text/html": [
              "<html>\n",
              "<head><meta charset=\"utf-8\" /></head>\n",
              "<body>\n",
              "    <div>\n",
              "            <script src=\"https://cdnjs.cloudflare.com/ajax/libs/mathjax/2.7.5/MathJax.js?config=TeX-AMS-MML_SVG\"></script><script type=\"text/javascript\">if (window.MathJax) {MathJax.Hub.Config({SVG: {font: \"STIX-Web\"}});}</script>\n",
              "                <script type=\"text/javascript\">window.PlotlyConfig = {MathJaxConfig: 'local'};</script>\n",
              "        <script src=\"https://cdn.plot.ly/plotly-latest.min.js\"></script>    \n",
              "            <div id=\"59122630-85d7-4989-bc0a-edc1eae99f77\" class=\"plotly-graph-div\" style=\"height:500px; width:800px;\"></div>\n",
              "            <script type=\"text/javascript\">\n",
              "                \n",
              "                    window.PLOTLYENV=window.PLOTLYENV || {};\n",
              "                    \n",
              "                if (document.getElementById(\"59122630-85d7-4989-bc0a-edc1eae99f77\")) {\n",
              "                    Plotly.newPlot(\n",
              "                        '59122630-85d7-4989-bc0a-edc1eae99f77',\n",
              "                        [{\"domain\": {\"x\": [0.0, 1.0], \"y\": [0.0, 1.0]}, \"hoverlabel\": {\"namelength\": 0}, \"hovertemplate\": \"label=%{label}<br>count=%{value}\", \"labels\": [5.0, 4.6, 4.5, 4.0, 3.9, 3.8, 3.7, 3.5, 3.2, 3.1, 3.0, 2.5, 2.0, 1.5, 1.0, 0.5], \"legendgroup\": \"\", \"name\": \"\", \"showlegend\": true, \"type\": \"pie\", \"values\": [15873, 522, 6983, 19958, 211, 100, 55, 8565, 38, 26, 5499, 11433, 2433, 1464, 4917, 5150]}],\n",
              "                        {\"height\": 500, \"legend\": {\"tracegroupgap\": 0}, \"template\": {\"data\": {\"bar\": [{\"error_x\": {\"color\": \"#2a3f5f\"}, \"error_y\": {\"color\": \"#2a3f5f\"}, \"marker\": {\"line\": {\"color\": \"#E5ECF6\", \"width\": 0.5}}, \"type\": \"bar\"}], \"barpolar\": [{\"marker\": {\"line\": {\"color\": \"#E5ECF6\", \"width\": 0.5}}, \"type\": \"barpolar\"}], \"carpet\": [{\"aaxis\": {\"endlinecolor\": \"#2a3f5f\", \"gridcolor\": \"white\", \"linecolor\": \"white\", \"minorgridcolor\": \"white\", \"startlinecolor\": \"#2a3f5f\"}, \"baxis\": {\"endlinecolor\": \"#2a3f5f\", \"gridcolor\": \"white\", \"linecolor\": \"white\", \"minorgridcolor\": \"white\", \"startlinecolor\": \"#2a3f5f\"}, \"type\": \"carpet\"}], \"choropleth\": [{\"colorbar\": {\"outlinewidth\": 0, \"ticks\": \"\"}, \"type\": \"choropleth\"}], \"contour\": [{\"colorbar\": {\"outlinewidth\": 0, \"ticks\": \"\"}, \"colorscale\": [[0.0, \"#0d0887\"], [0.1111111111111111, \"#46039f\"], [0.2222222222222222, \"#7201a8\"], [0.3333333333333333, \"#9c179e\"], [0.4444444444444444, \"#bd3786\"], [0.5555555555555556, \"#d8576b\"], [0.6666666666666666, \"#ed7953\"], [0.7777777777777778, \"#fb9f3a\"], [0.8888888888888888, \"#fdca26\"], [1.0, \"#f0f921\"]], \"type\": \"contour\"}], \"contourcarpet\": [{\"colorbar\": {\"outlinewidth\": 0, \"ticks\": \"\"}, \"type\": \"contourcarpet\"}], \"heatmap\": [{\"colorbar\": {\"outlinewidth\": 0, \"ticks\": \"\"}, \"colorscale\": [[0.0, \"#0d0887\"], [0.1111111111111111, \"#46039f\"], [0.2222222222222222, \"#7201a8\"], [0.3333333333333333, \"#9c179e\"], [0.4444444444444444, \"#bd3786\"], [0.5555555555555556, \"#d8576b\"], [0.6666666666666666, \"#ed7953\"], [0.7777777777777778, \"#fb9f3a\"], [0.8888888888888888, \"#fdca26\"], [1.0, \"#f0f921\"]], \"type\": \"heatmap\"}], \"heatmapgl\": [{\"colorbar\": {\"outlinewidth\": 0, \"ticks\": \"\"}, \"colorscale\": [[0.0, \"#0d0887\"], [0.1111111111111111, \"#46039f\"], [0.2222222222222222, \"#7201a8\"], [0.3333333333333333, \"#9c179e\"], [0.4444444444444444, \"#bd3786\"], [0.5555555555555556, \"#d8576b\"], [0.6666666666666666, \"#ed7953\"], [0.7777777777777778, \"#fb9f3a\"], [0.8888888888888888, \"#fdca26\"], [1.0, \"#f0f921\"]], \"type\": \"heatmapgl\"}], \"histogram\": [{\"marker\": {\"colorbar\": {\"outlinewidth\": 0, \"ticks\": \"\"}}, \"type\": \"histogram\"}], \"histogram2d\": [{\"colorbar\": {\"outlinewidth\": 0, \"ticks\": \"\"}, \"colorscale\": [[0.0, \"#0d0887\"], [0.1111111111111111, \"#46039f\"], [0.2222222222222222, \"#7201a8\"], [0.3333333333333333, \"#9c179e\"], [0.4444444444444444, \"#bd3786\"], [0.5555555555555556, \"#d8576b\"], [0.6666666666666666, \"#ed7953\"], [0.7777777777777778, \"#fb9f3a\"], [0.8888888888888888, \"#fdca26\"], [1.0, \"#f0f921\"]], \"type\": \"histogram2d\"}], \"histogram2dcontour\": [{\"colorbar\": {\"outlinewidth\": 0, \"ticks\": \"\"}, \"colorscale\": [[0.0, \"#0d0887\"], [0.1111111111111111, \"#46039f\"], [0.2222222222222222, \"#7201a8\"], [0.3333333333333333, \"#9c179e\"], [0.4444444444444444, \"#bd3786\"], [0.5555555555555556, \"#d8576b\"], [0.6666666666666666, \"#ed7953\"], [0.7777777777777778, \"#fb9f3a\"], [0.8888888888888888, \"#fdca26\"], [1.0, \"#f0f921\"]], \"type\": \"histogram2dcontour\"}], \"mesh3d\": [{\"colorbar\": {\"outlinewidth\": 0, \"ticks\": \"\"}, \"type\": \"mesh3d\"}], \"parcoords\": [{\"line\": {\"colorbar\": {\"outlinewidth\": 0, \"ticks\": \"\"}}, \"type\": \"parcoords\"}], \"pie\": [{\"automargin\": true, \"type\": \"pie\"}], \"scatter\": [{\"marker\": {\"colorbar\": {\"outlinewidth\": 0, \"ticks\": \"\"}}, \"type\": \"scatter\"}], \"scatter3d\": [{\"line\": {\"colorbar\": {\"outlinewidth\": 0, \"ticks\": \"\"}}, \"marker\": {\"colorbar\": {\"outlinewidth\": 0, \"ticks\": \"\"}}, \"type\": \"scatter3d\"}], \"scattercarpet\": [{\"marker\": {\"colorbar\": {\"outlinewidth\": 0, \"ticks\": \"\"}}, \"type\": \"scattercarpet\"}], \"scattergeo\": [{\"marker\": {\"colorbar\": {\"outlinewidth\": 0, \"ticks\": \"\"}}, \"type\": \"scattergeo\"}], \"scattergl\": [{\"marker\": {\"colorbar\": {\"outlinewidth\": 0, \"ticks\": \"\"}}, \"type\": \"scattergl\"}], \"scattermapbox\": [{\"marker\": {\"colorbar\": {\"outlinewidth\": 0, \"ticks\": \"\"}}, \"type\": \"scattermapbox\"}], \"scatterpolar\": [{\"marker\": {\"colorbar\": {\"outlinewidth\": 0, \"ticks\": \"\"}}, \"type\": \"scatterpolar\"}], \"scatterpolargl\": [{\"marker\": {\"colorbar\": {\"outlinewidth\": 0, \"ticks\": \"\"}}, \"type\": \"scatterpolargl\"}], \"scatterternary\": [{\"marker\": {\"colorbar\": {\"outlinewidth\": 0, \"ticks\": \"\"}}, \"type\": \"scatterternary\"}], \"surface\": [{\"colorbar\": {\"outlinewidth\": 0, \"ticks\": \"\"}, \"colorscale\": [[0.0, \"#0d0887\"], [0.1111111111111111, \"#46039f\"], [0.2222222222222222, \"#7201a8\"], [0.3333333333333333, \"#9c179e\"], [0.4444444444444444, \"#bd3786\"], [0.5555555555555556, \"#d8576b\"], [0.6666666666666666, \"#ed7953\"], [0.7777777777777778, \"#fb9f3a\"], [0.8888888888888888, \"#fdca26\"], [1.0, \"#f0f921\"]], \"type\": \"surface\"}], \"table\": [{\"cells\": {\"fill\": {\"color\": \"#EBF0F8\"}, \"line\": {\"color\": \"white\"}}, \"header\": {\"fill\": {\"color\": \"#C8D4E3\"}, \"line\": {\"color\": \"white\"}}, \"type\": \"table\"}]}, \"layout\": {\"annotationdefaults\": {\"arrowcolor\": \"#2a3f5f\", \"arrowhead\": 0, \"arrowwidth\": 1}, \"coloraxis\": {\"colorbar\": {\"outlinewidth\": 0, \"ticks\": \"\"}}, \"colorscale\": {\"diverging\": [[0, \"#8e0152\"], [0.1, \"#c51b7d\"], [0.2, \"#de77ae\"], [0.3, \"#f1b6da\"], [0.4, \"#fde0ef\"], [0.5, \"#f7f7f7\"], [0.6, \"#e6f5d0\"], [0.7, \"#b8e186\"], [0.8, \"#7fbc41\"], [0.9, \"#4d9221\"], [1, \"#276419\"]], \"sequential\": [[0.0, \"#0d0887\"], [0.1111111111111111, \"#46039f\"], [0.2222222222222222, \"#7201a8\"], [0.3333333333333333, \"#9c179e\"], [0.4444444444444444, \"#bd3786\"], [0.5555555555555556, \"#d8576b\"], [0.6666666666666666, \"#ed7953\"], [0.7777777777777778, \"#fb9f3a\"], [0.8888888888888888, \"#fdca26\"], [1.0, \"#f0f921\"]], \"sequentialminus\": [[0.0, \"#0d0887\"], [0.1111111111111111, \"#46039f\"], [0.2222222222222222, \"#7201a8\"], [0.3333333333333333, \"#9c179e\"], [0.4444444444444444, \"#bd3786\"], [0.5555555555555556, \"#d8576b\"], [0.6666666666666666, \"#ed7953\"], [0.7777777777777778, \"#fb9f3a\"], [0.8888888888888888, \"#fdca26\"], [1.0, \"#f0f921\"]]}, \"colorway\": [\"#636efa\", \"#EF553B\", \"#00cc96\", \"#ab63fa\", \"#FFA15A\", \"#19d3f3\", \"#FF6692\", \"#B6E880\", \"#FF97FF\", \"#FECB52\"], \"font\": {\"color\": \"#2a3f5f\"}, \"geo\": {\"bgcolor\": \"white\", \"lakecolor\": \"white\", \"landcolor\": \"#E5ECF6\", \"showlakes\": true, \"showland\": true, \"subunitcolor\": \"white\"}, \"hoverlabel\": {\"align\": \"left\"}, \"hovermode\": \"closest\", \"mapbox\": {\"style\": \"light\"}, \"paper_bgcolor\": \"white\", \"plot_bgcolor\": \"#E5ECF6\", \"polar\": {\"angularaxis\": {\"gridcolor\": \"white\", \"linecolor\": \"white\", \"ticks\": \"\"}, \"bgcolor\": \"#E5ECF6\", \"radialaxis\": {\"gridcolor\": \"white\", \"linecolor\": \"white\", \"ticks\": \"\"}}, \"scene\": {\"xaxis\": {\"backgroundcolor\": \"#E5ECF6\", \"gridcolor\": \"white\", \"gridwidth\": 2, \"linecolor\": \"white\", \"showbackground\": true, \"ticks\": \"\", \"zerolinecolor\": \"white\"}, \"yaxis\": {\"backgroundcolor\": \"#E5ECF6\", \"gridcolor\": \"white\", \"gridwidth\": 2, \"linecolor\": \"white\", \"showbackground\": true, \"ticks\": \"\", \"zerolinecolor\": \"white\"}, \"zaxis\": {\"backgroundcolor\": \"#E5ECF6\", \"gridcolor\": \"white\", \"gridwidth\": 2, \"linecolor\": \"white\", \"showbackground\": true, \"ticks\": \"\", \"zerolinecolor\": \"white\"}}, \"shapedefaults\": {\"line\": {\"color\": \"#2a3f5f\"}}, \"ternary\": {\"aaxis\": {\"gridcolor\": \"white\", \"linecolor\": \"white\", \"ticks\": \"\"}, \"baxis\": {\"gridcolor\": \"white\", \"linecolor\": \"white\", \"ticks\": \"\"}, \"bgcolor\": \"#E5ECF6\", \"caxis\": {\"gridcolor\": \"white\", \"linecolor\": \"white\", \"ticks\": \"\"}}, \"title\": {\"x\": 0.05}, \"xaxis\": {\"automargin\": true, \"gridcolor\": \"white\", \"linecolor\": \"white\", \"ticks\": \"\", \"title\": {\"standoff\": 15}, \"zerolinecolor\": \"white\", \"zerolinewidth\": 2}, \"yaxis\": {\"automargin\": true, \"gridcolor\": \"white\", \"linecolor\": \"white\", \"ticks\": \"\", \"title\": {\"standoff\": 15}, \"zerolinecolor\": \"white\", \"zerolinewidth\": 2}}}, \"title\": {\"text\": \"Distribution of points\"}, \"width\": 800},\n",
              "                        {\"responsive\": true}\n",
              "                    ).then(function(){\n",
              "                            \n",
              "var gd = document.getElementById('59122630-85d7-4989-bc0a-edc1eae99f77');\n",
              "var x = new MutationObserver(function (mutations, observer) {{\n",
              "        var display = window.getComputedStyle(gd).display;\n",
              "        if (!display || display === 'none') {{\n",
              "            console.log([gd, 'removed!']);\n",
              "            Plotly.purge(gd);\n",
              "            observer.disconnect();\n",
              "        }}\n",
              "}});\n",
              "\n",
              "// Listen for the removal of the full notebook cells\n",
              "var notebookContainer = gd.closest('#notebook-container');\n",
              "if (notebookContainer) {{\n",
              "    x.observe(notebookContainer, {childList: true});\n",
              "}}\n",
              "\n",
              "// Listen for the clearing of the current output cell\n",
              "var outputEl = gd.closest('.output');\n",
              "if (outputEl) {{\n",
              "    x.observe(outputEl, {childList: true});\n",
              "}}\n",
              "\n",
              "                        })\n",
              "                };\n",
              "                \n",
              "            </script>\n",
              "        </div>\n",
              "</body>\n",
              "</html>"
            ]
          },
          "metadata": {
            "tags": []
          }
        }
      ]
    },
    {
      "cell_type": "markdown",
      "metadata": {
        "id": "voMFkqa0P9Nh"
      },
      "source": [
        "Verisetinde de görüldüğü üzere yorumların değerlendirilmesi point sütununda yapılmıştır. \n",
        "\n",
        "*   Point değeri 2.5 olan yorumlar nötr sayılabileceği için veri setinden atılmıştır. \n",
        "*   Point değeri 2.5'tan büyük ise 'positive' yani 1\n",
        "*   Ortalama puan 2.5'ten küçük ise 'negative' yani -1\n",
        "\n",
        "olarak değerlendirilecektir. Böylelikle modelin duygu analizi için 'label' olarak kullanabileceği verilere ulaşmış olacağız."
      ]
    },
    {
      "cell_type": "code",
      "metadata": {
        "colab": {
          "base_uri": "https://localhost:8080/",
          "height": 418
        },
        "id": "K0qNSpzBP96C",
        "outputId": "5cba89a0-1bf3-47ac-c0cc-231b3f5c358d"
      },
      "source": [
        "df['sentiment'] = (df.apply(lambda x: 0 if (2.5>=x.point) else 1, axis=1))\n",
        "df.drop(df.loc[df['point']==2.5].index, inplace=True)\n",
        "df"
      ],
      "execution_count": 4,
      "outputs": [
        {
          "output_type": "execute_result",
          "data": {
            "text/html": [
              "<div>\n",
              "<style scoped>\n",
              "    .dataframe tbody tr th:only-of-type {\n",
              "        vertical-align: middle;\n",
              "    }\n",
              "\n",
              "    .dataframe tbody tr th {\n",
              "        vertical-align: top;\n",
              "    }\n",
              "\n",
              "    .dataframe thead th {\n",
              "        text-align: right;\n",
              "    }\n",
              "</style>\n",
              "<table border=\"1\" class=\"dataframe\">\n",
              "  <thead>\n",
              "    <tr style=\"text-align: right;\">\n",
              "      <th></th>\n",
              "      <th>comment</th>\n",
              "      <th>film_name</th>\n",
              "      <th>point</th>\n",
              "      <th>sentiment</th>\n",
              "    </tr>\n",
              "  </thead>\n",
              "  <tbody>\n",
              "    <tr>\n",
              "      <th>0</th>\n",
              "      <td>\\n                      Jean Reno denince zate...</td>\n",
              "      <td>Sevginin Gücü</td>\n",
              "      <td>5.0</td>\n",
              "      <td>1</td>\n",
              "    </tr>\n",
              "    <tr>\n",
              "      <th>1</th>\n",
              "      <td>\\n                      Ekşın falan izlemek is...</td>\n",
              "      <td>Sevginin Gücü</td>\n",
              "      <td>5.0</td>\n",
              "      <td>1</td>\n",
              "    </tr>\n",
              "    <tr>\n",
              "      <th>2</th>\n",
              "      <td>\\n                      Bu yapım hakkında öyle...</td>\n",
              "      <td>Sevginin Gücü</td>\n",
              "      <td>5.0</td>\n",
              "      <td>1</td>\n",
              "    </tr>\n",
              "    <tr>\n",
              "      <th>3</th>\n",
              "      <td>\\n                      finali yeter... (sting...</td>\n",
              "      <td>Sevginin Gücü</td>\n",
              "      <td>5.0</td>\n",
              "      <td>1</td>\n",
              "    </tr>\n",
              "    <tr>\n",
              "      <th>4</th>\n",
              "      <td>\\n                      Jean Reno..\\r\\nbu adam...</td>\n",
              "      <td>Sevginin Gücü</td>\n",
              "      <td>5.0</td>\n",
              "      <td>1</td>\n",
              "    </tr>\n",
              "    <tr>\n",
              "      <th>...</th>\n",
              "      <td>...</td>\n",
              "      <td>...</td>\n",
              "      <td>...</td>\n",
              "      <td>...</td>\n",
              "    </tr>\n",
              "    <tr>\n",
              "      <th>83219</th>\n",
              "      <td>\\n                      Filmi dün izledim .Her...</td>\n",
              "      <td>Kabus</td>\n",
              "      <td>1.0</td>\n",
              "      <td>0</td>\n",
              "    </tr>\n",
              "    <tr>\n",
              "      <th>83220</th>\n",
              "      <td>\\n                      Zaten konusunu bile ok...</td>\n",
              "      <td>Kabus</td>\n",
              "      <td>3.0</td>\n",
              "      <td>1</td>\n",
              "    </tr>\n",
              "    <tr>\n",
              "      <th>83224</th>\n",
              "      <td>\\n                      bugün dvd'sini alıp iz...</td>\n",
              "      <td>Kabus</td>\n",
              "      <td>1.0</td>\n",
              "      <td>0</td>\n",
              "    </tr>\n",
              "    <tr>\n",
              "      <th>83225</th>\n",
              "      <td>\\n                      Klasik korku ve gerili...</td>\n",
              "      <td>Kabus</td>\n",
              "      <td>4.0</td>\n",
              "      <td>1</td>\n",
              "    </tr>\n",
              "    <tr>\n",
              "      <th>83226</th>\n",
              "      <td>\\n                      Bence gereğinden fazla...</td>\n",
              "      <td>Bir Zamanlar... Hollywood'da</td>\n",
              "      <td>4.6</td>\n",
              "      <td>1</td>\n",
              "    </tr>\n",
              "  </tbody>\n",
              "</table>\n",
              "<p>71794 rows × 4 columns</p>\n",
              "</div>"
            ],
            "text/plain": [
              "                                                 comment  ... sentiment\n",
              "0      \\n                      Jean Reno denince zate...  ...         1\n",
              "1      \\n                      Ekşın falan izlemek is...  ...         1\n",
              "2      \\n                      Bu yapım hakkında öyle...  ...         1\n",
              "3      \\n                      finali yeter... (sting...  ...         1\n",
              "4      \\n                      Jean Reno..\\r\\nbu adam...  ...         1\n",
              "...                                                  ...  ...       ...\n",
              "83219  \\n                      Filmi dün izledim .Her...  ...         0\n",
              "83220  \\n                      Zaten konusunu bile ok...  ...         1\n",
              "83224  \\n                      bugün dvd'sini alıp iz...  ...         0\n",
              "83225  \\n                      Klasik korku ve gerili...  ...         1\n",
              "83226  \\n                      Bence gereğinden fazla...  ...         1\n",
              "\n",
              "[71794 rows x 4 columns]"
            ]
          },
          "metadata": {
            "tags": []
          },
          "execution_count": 4
        }
      ]
    },
    {
      "cell_type": "markdown",
      "metadata": {
        "id": "U17eLnZ84E2B"
      },
      "source": [
        "### 1.1 Verinin Seçilmesi\n",
        "\n",
        "Verilerde negatif ve nötr yorumlara oranla çok fazla pozitif veri bulunmaktadır. Bu da veriyi dengesiz hale getirmektedir. Dengesizliği düzeltmek için **under-sampling** tekniğinin uygulanması tercih edilmiştir."
      ]
    },
    {
      "cell_type": "code",
      "metadata": {
        "colab": {
          "base_uri": "https://localhost:8080/",
          "height": 346
        },
        "id": "heSwTBoQ4Xt9",
        "outputId": "9a33423f-cb7d-469f-e245-79788c817000"
      },
      "source": [
        "df['sentiment'].value_counts().plot(kind='bar', figsize = (8,5), ylabel='Yorum sayısı', xlabel='Duygular', title='Duygulara göre yorumların sayısı')\n",
        "plt.show()"
      ],
      "execution_count": 5,
      "outputs": [
        {
          "output_type": "display_data",
          "data": {
            "image/png": "[encoded data removed]",
            "text/plain": [
              "<Figure size 576x360 with 1 Axes>"
            ]
          },
          "metadata": {
            "tags": [],
            "needs_background": "light"
          }
        }
      ]
    },
    {
      "cell_type": "code",
      "metadata": {
        "colab": {
          "base_uri": "https://localhost:8080/"
        },
        "id": "vw2hJ9Ne6NGh",
        "outputId": "69d85b97-cf97-460c-a577-ab57eabf1ff0"
      },
      "source": [
        "print(\"Negatif örnek sayısı {}.\".format(len(df[df['sentiment']==0])))"
      ],
      "execution_count": 6,
      "outputs": [
        {
          "output_type": "stream",
          "text": [
            "Negatif örnek sayısı 13964.\n"
          ],
          "name": "stdout"
        }
      ]
    },
    {
      "cell_type": "code",
      "metadata": {
        "id": "c5r48-rX6orQ"
      },
      "source": [
        "positive_data = df[df['sentiment'] == 1].sample(n=14000, random_state=42)"
      ],
      "execution_count": 7,
      "outputs": []
    },
    {
      "cell_type": "code",
      "metadata": {
        "id": "iYks-FiJ7EsL"
      },
      "source": [
        "df = pd.concat([positive_data, df[df['sentiment']==0]], axis=0)"
      ],
      "execution_count": 8,
      "outputs": []
    },
    {
      "cell_type": "markdown",
      "metadata": {
        "id": "OL0y4JTU7ftr"
      },
      "source": [
        "Negatif ve pozitif yorumların sayısı dengelenmiştir."
      ]
    },
    {
      "cell_type": "code",
      "metadata": {
        "colab": {
          "base_uri": "https://localhost:8080/",
          "height": 346
        },
        "id": "QY-Fsrgj7baN",
        "outputId": "cd84c7b8-b3e2-4db4-81ee-16d5bb5e9f75"
      },
      "source": [
        "df['sentiment'].value_counts().plot(kind='bar', figsize = (8,5), ylabel='Yorum sayısı', xlabel='Duygular', title='Duygulara göre yorumların sayısı')\n",
        "plt.show()"
      ],
      "execution_count": 9,
      "outputs": [
        {
          "output_type": "display_data",
          "data": {
            "image/png": "[encoded data removed]",
            "text/plain": [
              "<Figure size 576x360 with 1 Axes>"
            ]
          },
          "metadata": {
            "tags": [],
            "needs_background": "light"
          }
        }
      ]
    },
    {
      "cell_type": "markdown",
      "metadata": {
        "id": "116o16VxEzOQ"
      },
      "source": [
        "### 1.2 Verinin Temizlenmesi\n",
        "\n"
      ]
    },
    {
      "cell_type": "markdown",
      "metadata": {
        "id": "1K2NQaSzz5lI"
      },
      "source": [
        "KISIM 1: Emojilerin kaldırılması\n",
        "\n",
        "Veri metin halinde emojiler içermektedir. Emojilerin belirttiği duygu yerine pozitif, negatif kelimeleri yerleştirilir."
      ]
    },
    {
      "cell_type": "code",
      "metadata": {
        "id": "xkY2Dgl9uPDl"
      },
      "source": [
        "df.comment.replace(r'(?::\\)|:-\\)|=\\)|:D|:d|<3|\\(:|:\\'\\)|\\^\\^|;\\)|\\(-:)', 'pozitifemoji', regex=True, inplace=True)\n",
        "df.comment.replace(r'(:-\\(|:\\(|;\\(|;-\\(|=\\(|:/|:\\\\|-_-|\\):|\\)-:)', 'negatifemoji', regex=True, inplace=True)"
      ],
      "execution_count": 10,
      "outputs": []
    },
    {
      "cell_type": "markdown",
      "metadata": {
        "id": "jLmno0rlMT6a"
      },
      "source": [
        "KISIM 2: Noktalama işaretleri ve sayısal değerlerin kaldırılması\n",
        "\n",
        "Review kısmındaki verileri modelde kullanmadan önce NLP prensiplerine göre bir takım işlemlerden geçirmek gerekiyor, bu bağlamda öncelikle verilerdeki noktalama işaretleri ve büyük-küçük harflerden doğacak problemlerin önünü kesmek adına *prepare_data* adında bir fonksiyon tanımladık."
      ]
    },
    {
      "cell_type": "code",
      "metadata": {
        "id": "JxRU3p5lK-s8"
      },
      "source": [
        "def prepare_data(text):\n",
        "    text = re.sub(\"İ\",\"i\",text)\n",
        "    text = re.sub('[^\\w\\s]','',text)\n",
        "    text = re.sub('\\d+', '', text)\n",
        "    text = re.sub('\\n',' ', text)\n",
        "    text = re.sub('\\r',' ', text)\n",
        "    text = text.lower()\n",
        "    return text"
      ],
      "execution_count": 11,
      "outputs": []
    },
    {
      "cell_type": "code",
      "metadata": {
        "id": "-gsSoqDk0QrP"
      },
      "source": [
        "df['comment'] = df.apply(lambda row : prepare_data(str(row['comment'])), axis = 1)"
      ],
      "execution_count": 12,
      "outputs": []
    },
    {
      "cell_type": "markdown",
      "metadata": {
        "id": "xyoCWZGGAFFT"
      },
      "source": [
        "KISIM 3: Tekrar eden harflerin kaldırılması\n",
        "\n",
        "Örneğin süpeeer şeklinde yazılmış kelimenin diğer süper kelimesi ile ilişki kurabilmesi süper şekline dönüştürülmesi gerekmektedir."
      ]
    },
    {
      "cell_type": "code",
      "metadata": {
        "id": "ATsXZUHKqci5"
      },
      "source": [
        "def remove_repeating_char(word):\n",
        "    new_word = \" \"\n",
        "    prev_char = ' '\n",
        "    for char in word:\n",
        "    \tif prev_char == char:\n",
        "    \t\tcontinue\n",
        "    \tnew_word = new_word + char\n",
        "    \tprev_char = char\n",
        "    return new_word"
      ],
      "execution_count": 13,
      "outputs": []
    },
    {
      "cell_type": "code",
      "metadata": {
        "id": "jfZG3Nmtqc9l"
      },
      "source": [
        "df[\"comment\"] = df[\"comment\"].apply(lambda text: remove_repeating_char(str(text)))"
      ],
      "execution_count": 14,
      "outputs": []
    },
    {
      "cell_type": "markdown",
      "metadata": {
        "id": "wGl3Jla5CSRY"
      },
      "source": [
        "KISIM 4: Belirli bir uzunluğun üstündeki kelimelerin kaldırılması"
      ]
    },
    {
      "cell_type": "code",
      "metadata": {
        "id": "PcPVsjbuConm"
      },
      "source": [
        "def remove_n_length_words(text, length):\n",
        "  return ' '.join([w for w in str(text).split() if len(w)<length])"
      ],
      "execution_count": 15,
      "outputs": []
    },
    {
      "cell_type": "code",
      "metadata": {
        "id": "vrxDwu_UCz64"
      },
      "source": [
        "df[\"comment\"] = df[\"comment\"].apply(lambda text: remove_n_length_words(text, 15))"
      ],
      "execution_count": 16,
      "outputs": []
    },
    {
      "cell_type": "markdown",
      "metadata": {
        "id": "t8R41A_k_Oes"
      },
      "source": [
        "KISIM 5: Stopword (Bağlaç) Temizlenmesi"
      ]
    },
    {
      "cell_type": "code",
      "metadata": {
        "id": "ki8n33sWJSAB"
      },
      "source": [
        "def remove_words(text, remove_words):\n",
        "  return \" \".join([word for word in str(text).split() if word not in remove_words])"
      ],
      "execution_count": 17,
      "outputs": []
    },
    {
      "cell_type": "code",
      "metadata": {
        "id": "y3Fp2kBEKJQh"
      },
      "source": [
        "def replace_turkish_char(word):\n",
        "\tword = word.replace('ş','s')\n",
        "\tword = word.replace('ç','c')\n",
        "\tword = word.replace('ğ','g')\n",
        "\tword = word.replace('ü','u')\n",
        "\tword = word.replace('ö','o')\n",
        "\tword = word.replace('ı','i')\n",
        "\treturn word"
      ],
      "execution_count": 18,
      "outputs": []
    },
    {
      "cell_type": "code",
      "metadata": {
        "id": "V14JdaAM58I4"
      },
      "source": [
        "df[\"comment\"] = df[\"comment\"].apply(lambda text: replace_turkish_char(str(text)))"
      ],
      "execution_count": 19,
      "outputs": []
    },
    {
      "cell_type": "code",
      "metadata": {
        "colab": {
          "base_uri": "https://localhost:8080/"
        },
        "id": "DFGgPFxw9zM8",
        "outputId": "75ca9dd7-1806-4de6-eb45-0a07aa54069d"
      },
      "source": [
        "!pip install nltk\n",
        "from nltk.corpus import stopwords\n",
        "import nltk\n",
        "nltk.download('stopwords')\n",
        "STOPWORDS = stopwords.words(\"turkish\")"
      ],
      "execution_count": 20,
      "outputs": [
        {
          "output_type": "stream",
          "text": [
            "Requirement already satisfied: nltk in /usr/local/lib/python3.7/dist-packages (3.2.5)\n",
            "Requirement already satisfied: six in /usr/local/lib/python3.7/dist-packages (from nltk) (1.15.0)\n",
            "[nltk_data] Downloading package stopwords to /root/nltk_data...\n",
            "[nltk_data]   Package stopwords is already up-to-date!\n"
          ],
          "name": "stdout"
        }
      ]
    },
    {
      "cell_type": "code",
      "metadata": {
        "id": "dJkvmaxK_AHi"
      },
      "source": [
        "STOPWORDS.extend([\"bir\", \"iki\", \"üç\", \"bi\", \"ben\", \"bence\", \"benden\", \"beni\", \"bile\", \"böylece\", \"çok\", \"herşey\", \"için\", \"ilk\", \"kadar\", \"şey\", \"yine\", \"zaten\"])"
      ],
      "execution_count": 21,
      "outputs": []
    },
    {
      "cell_type": "code",
      "metadata": {
        "id": "9RSneUN6_41P"
      },
      "source": [
        "STOPWORDS += [replace_turkish_char(word) for word in STOPWORDS]"
      ],
      "execution_count": 22,
      "outputs": []
    },
    {
      "cell_type": "code",
      "metadata": {
        "id": "qkgBesFPd1rb"
      },
      "source": [
        "df[\"comment\"] = df[\"comment\"].apply(lambda text: remove_words(text, STOPWORDS))"
      ],
      "execution_count": 23,
      "outputs": []
    },
    {
      "cell_type": "markdown",
      "metadata": {
        "id": "52oVyTLM6iCo"
      },
      "source": [
        "KISIM 6: En az kullanılan kelimelerin kaldırılması"
      ]
    },
    {
      "cell_type": "code",
      "metadata": {
        "id": "htHJ5evs_x0q"
      },
      "source": [
        "from collections import Counter\n",
        "cnt = Counter()\n",
        "for text in df[\"comment\"].values:\n",
        "  for word in text.split():\n",
        "    cnt[word] += 1"
      ],
      "execution_count": 24,
      "outputs": []
    },
    {
      "cell_type": "code",
      "metadata": {
        "id": "jsPVXGdbHu0Q"
      },
      "source": [
        "rare_word_number = 100\n",
        "rare_words = set([w for (w, wc) in cnt.most_common()[:-rare_word_number-1:-1]])"
      ],
      "execution_count": 25,
      "outputs": []
    },
    {
      "cell_type": "code",
      "metadata": {
        "id": "h7qUWO3LIe0b"
      },
      "source": [
        "df[\"comment\"] = df[\"comment\"].apply(lambda text: remove_words(text, rare_words))"
      ],
      "execution_count": 26,
      "outputs": []
    },
    {
      "cell_type": "code",
      "metadata": {
        "id": "hwI1rZhz3Par"
      },
      "source": [
        "#Bazı yorumlar yukarıdaki işlemler sonucu boş kalmışlardır. Bu yorumları içeren satırların silinmesi gerekir.\n",
        "df.comment = df.comment.replace(r'^\\s*$', np.nan, regex=True)\n",
        "df = df[df['comment'].notna()]"
      ],
      "execution_count": 27,
      "outputs": []
    },
    {
      "cell_type": "code",
      "metadata": {
        "colab": {
          "base_uri": "https://localhost:8080/",
          "height": 517
        },
        "id": "pS383zg4IkJg",
        "outputId": "08f93b96-c273-4f48-b509-9f48b2168230"
      },
      "source": [
        "most_common = pd.DataFrame(cnt.most_common(20))\n",
        "most_common.columns = ['word', 'count']\n",
        "fig = px.bar(most_common, x='word', y='count', color='word', title='Most common 20 words', width=800, height=500)\n",
        "fig.update_layout(showlegend=False)\n",
        "fig.show()"
      ],
      "execution_count": 28,
      "outputs": [
        {
          "output_type": "display_data",
          "data": {
            "text/html": [
              "<html>\n",
              "<head><meta charset=\"utf-8\" /></head>\n",
              "<body>\n",
              "    <div>\n",
              "            <script src=\"https://cdnjs.cloudflare.com/ajax/libs/mathjax/2.7.5/MathJax.js?config=TeX-AMS-MML_SVG\"></script><script type=\"text/javascript\">if (window.MathJax) {MathJax.Hub.Config({SVG: {font: \"STIX-Web\"}});}</script>\n",
              "                <script type=\"text/javascript\">window.PlotlyConfig = {MathJaxConfig: 'local'};</script>\n",
              "        <script src=\"https://cdn.plot.ly/plotly-latest.min.js\"></script>    \n",
              "            <div id=\"620bc3fb-1e78-4128-a527-60e8059aa026\" class=\"plotly-graph-div\" style=\"height:500px; width:800px;\"></div>\n",
              "            <script type=\"text/javascript\">\n",
              "                \n",
              "                    window.PLOTLYENV=window.PLOTLYENV || {};\n",
              "                    \n",
              "                if (document.getElementById(\"620bc3fb-1e78-4128-a527-60e8059aa026\")) {\n",
              "                    Plotly.newPlot(\n",
              "                        '620bc3fb-1e78-4128-a527-60e8059aa026',\n",
              "                        [{\"alignmentgroup\": \"True\", \"hoverlabel\": {\"namelength\": 0}, \"hovertemplate\": \"word=%{x}<br>count=%{y}\", \"legendgroup\": \"word=film\", \"marker\": {\"color\": \"#636efa\"}, \"name\": \"word=film\", \"offsetgroup\": \"word=film\", \"orientation\": \"v\", \"showlegend\": true, \"textposition\": \"auto\", \"type\": \"bar\", \"x\": [\"film\"], \"xaxis\": \"x\", \"y\": [22880], \"yaxis\": \"y\"}, {\"alignmentgroup\": \"True\", \"hoverlabel\": {\"namelength\": 0}, \"hovertemplate\": \"word=%{x}<br>count=%{y}\", \"legendgroup\": \"word=filmi\", \"marker\": {\"color\": \"#EF553B\"}, \"name\": \"word=filmi\", \"offsetgroup\": \"word=filmi\", \"orientation\": \"v\", \"showlegend\": true, \"textposition\": \"auto\", \"type\": \"bar\", \"x\": [\"filmi\"], \"xaxis\": \"x\", \"y\": [10311], \"yaxis\": \"y\"}, {\"alignmentgroup\": \"True\", \"hoverlabel\": {\"namelength\": 0}, \"hovertemplate\": \"word=%{x}<br>count=%{y}\", \"legendgroup\": \"word=iyi\", \"marker\": {\"color\": \"#00cc96\"}, \"name\": \"word=iyi\", \"offsetgroup\": \"word=iyi\", \"orientation\": \"v\", \"showlegend\": true, \"textposition\": \"auto\", \"type\": \"bar\", \"x\": [\"iyi\"], \"xaxis\": \"x\", \"y\": [7805], \"yaxis\": \"y\"}, {\"alignmentgroup\": \"True\", \"hoverlabel\": {\"namelength\": 0}, \"hovertemplate\": \"word=%{x}<br>count=%{y}\", \"legendgroup\": \"word=filmin\", \"marker\": {\"color\": \"#ab63fa\"}, \"name\": \"word=filmin\", \"offsetgroup\": \"word=filmin\", \"orientation\": \"v\", \"showlegend\": true, \"textposition\": \"auto\", \"type\": \"bar\", \"x\": [\"filmin\"], \"xaxis\": \"x\", \"y\": [6916], \"yaxis\": \"y\"}, {\"alignmentgroup\": \"True\", \"hoverlabel\": {\"namelength\": 0}, \"hovertemplate\": \"word=%{x}<br>count=%{y}\", \"legendgroup\": \"word=guzel\", \"marker\": {\"color\": \"#FFA15A\"}, \"name\": \"word=guzel\", \"offsetgroup\": \"word=guzel\", \"orientation\": \"v\", \"showlegend\": true, \"textposition\": \"auto\", \"type\": \"bar\", \"x\": [\"guzel\"], \"xaxis\": \"x\", \"y\": [5126], \"yaxis\": \"y\"}, {\"alignmentgroup\": \"True\", \"hoverlabel\": {\"namelength\": 0}, \"hovertemplate\": \"word=%{x}<br>count=%{y}\", \"legendgroup\": \"word=kotu\", \"marker\": {\"color\": \"#19d3f3\"}, \"name\": \"word=kotu\", \"offsetgroup\": \"word=kotu\", \"orientation\": \"v\", \"showlegend\": true, \"textposition\": \"auto\", \"type\": \"bar\", \"x\": [\"kotu\"], \"xaxis\": \"x\", \"y\": [4772], \"yaxis\": \"y\"}, {\"alignmentgroup\": \"True\", \"hoverlabel\": {\"namelength\": 0}, \"hovertemplate\": \"word=%{x}<br>count=%{y}\", \"legendgroup\": \"word=olarak\", \"marker\": {\"color\": \"#FF6692\"}, \"name\": \"word=olarak\", \"offsetgroup\": \"word=olarak\", \"orientation\": \"v\", \"showlegend\": true, \"textposition\": \"auto\", \"type\": \"bar\", \"x\": [\"olarak\"], \"xaxis\": \"x\", \"y\": [3919], \"yaxis\": \"y\"}, {\"alignmentgroup\": \"True\", \"hoverlabel\": {\"namelength\": 0}, \"hovertemplate\": \"word=%{x}<br>count=%{y}\", \"legendgroup\": \"word=filmde\", \"marker\": {\"color\": \"#B6E880\"}, \"name\": \"word=filmde\", \"offsetgroup\": \"word=filmde\", \"orientation\": \"v\", \"showlegend\": true, \"textposition\": \"auto\", \"type\": \"bar\", \"x\": [\"filmde\"], \"xaxis\": \"x\", \"y\": [3919], \"yaxis\": \"y\"}, {\"alignmentgroup\": \"True\", \"hoverlabel\": {\"namelength\": 0}, \"hovertemplate\": \"word=%{x}<br>count=%{y}\", \"legendgroup\": \"word=degil\", \"marker\": {\"color\": \"#FF97FF\"}, \"name\": \"word=degil\", \"offsetgroup\": \"word=degil\", \"orientation\": \"v\", \"showlegend\": true, \"textposition\": \"auto\", \"type\": \"bar\", \"x\": [\"degil\"], \"xaxis\": \"x\", \"y\": [3590], \"yaxis\": \"y\"}, {\"alignmentgroup\": \"True\", \"hoverlabel\": {\"namelength\": 0}, \"hovertemplate\": \"word=%{x}<br>count=%{y}\", \"legendgroup\": \"word=var\", \"marker\": {\"color\": \"#FECB52\"}, \"name\": \"word=var\", \"offsetgroup\": \"word=var\", \"orientation\": \"v\", \"showlegend\": true, \"textposition\": \"auto\", \"type\": \"bar\", \"x\": [\"var\"], \"xaxis\": \"x\", \"y\": [3373], \"yaxis\": \"y\"}, {\"alignmentgroup\": \"True\", \"hoverlabel\": {\"namelength\": 0}, \"hovertemplate\": \"word=%{x}<br>count=%{y}\", \"legendgroup\": \"word=yok\", \"marker\": {\"color\": \"#636efa\"}, \"name\": \"word=yok\", \"offsetgroup\": \"word=yok\", \"orientation\": \"v\", \"showlegend\": true, \"textposition\": \"auto\", \"type\": \"bar\", \"x\": [\"yok\"], \"xaxis\": \"x\", \"y\": [3334], \"yaxis\": \"y\"}, {\"alignmentgroup\": \"True\", \"hoverlabel\": {\"namelength\": 0}, \"hovertemplate\": \"word=%{x}<br>count=%{y}\", \"legendgroup\": \"word=filme\", \"marker\": {\"color\": \"#EF553B\"}, \"name\": \"word=filme\", \"offsetgroup\": \"word=filme\", \"orientation\": \"v\", \"showlegend\": true, \"textposition\": \"auto\", \"type\": \"bar\", \"x\": [\"filme\"], \"xaxis\": \"x\", \"y\": [2971], \"yaxis\": \"y\"}, {\"alignmentgroup\": \"True\", \"hoverlabel\": {\"namelength\": 0}, \"hovertemplate\": \"word=%{x}<br>count=%{y}\", \"legendgroup\": \"word=olan\", \"marker\": {\"color\": \"#00cc96\"}, \"name\": \"word=olan\", \"offsetgroup\": \"word=olan\", \"orientation\": \"v\", \"showlegend\": true, \"textposition\": \"auto\", \"type\": \"bar\", \"x\": [\"olan\"], \"xaxis\": \"x\", \"y\": [2958], \"yaxis\": \"y\"}, {\"alignmentgroup\": \"True\", \"hoverlabel\": {\"namelength\": 0}, \"hovertemplate\": \"word=%{x}<br>count=%{y}\", \"legendgroup\": \"word=sonra\", \"marker\": {\"color\": \"#ab63fa\"}, \"name\": \"word=sonra\", \"offsetgroup\": \"word=sonra\", \"orientation\": \"v\", \"showlegend\": true, \"textposition\": \"auto\", \"type\": \"bar\", \"x\": [\"sonra\"], \"xaxis\": \"x\", \"y\": [2737], \"yaxis\": \"y\"}, {\"alignmentgroup\": \"True\", \"hoverlabel\": {\"namelength\": 0}, \"hovertemplate\": \"word=%{x}<br>count=%{y}\", \"legendgroup\": \"word=gercekten\", \"marker\": {\"color\": \"#FFA15A\"}, \"name\": \"word=gercekten\", \"offsetgroup\": \"word=gercekten\", \"orientation\": \"v\", \"showlegend\": true, \"textposition\": \"auto\", \"type\": \"bar\", \"x\": [\"gercekten\"], \"xaxis\": \"x\", \"y\": [2689], \"yaxis\": \"y\"}, {\"alignmentgroup\": \"True\", \"hoverlabel\": {\"namelength\": 0}, \"hovertemplate\": \"word=%{x}<br>count=%{y}\", \"legendgroup\": \"word=zaman\", \"marker\": {\"color\": \"#19d3f3\"}, \"name\": \"word=zaman\", \"offsetgroup\": \"word=zaman\", \"orientation\": \"v\", \"showlegend\": true, \"textposition\": \"auto\", \"type\": \"bar\", \"x\": [\"zaman\"], \"xaxis\": \"x\", \"y\": [2515], \"yaxis\": \"y\"}, {\"alignmentgroup\": \"True\", \"hoverlabel\": {\"namelength\": 0}, \"hovertemplate\": \"word=%{x}<br>count=%{y}\", \"legendgroup\": \"word=son\", \"marker\": {\"color\": \"#FF6692\"}, \"name\": \"word=son\", \"offsetgroup\": \"word=son\", \"orientation\": \"v\", \"showlegend\": true, \"textposition\": \"auto\", \"type\": \"bar\", \"x\": [\"son\"], \"xaxis\": \"x\", \"y\": [2463], \"yaxis\": \"y\"}, {\"alignmentgroup\": \"True\", \"hoverlabel\": {\"namelength\": 0}, \"hovertemplate\": \"word=%{x}<br>count=%{y}\", \"legendgroup\": \"word=olmus\", \"marker\": {\"color\": \"#B6E880\"}, \"name\": \"word=olmus\", \"offsetgroup\": \"word=olmus\", \"orientation\": \"v\", \"showlegend\": true, \"textposition\": \"auto\", \"type\": \"bar\", \"x\": [\"olmus\"], \"xaxis\": \"x\", \"y\": [2223], \"yaxis\": \"y\"}, {\"alignmentgroup\": \"True\", \"hoverlabel\": {\"namelength\": 0}, \"hovertemplate\": \"word=%{x}<br>count=%{y}\", \"legendgroup\": \"word=kesinlikle\", \"marker\": {\"color\": \"#FF97FF\"}, \"name\": \"word=kesinlikle\", \"offsetgroup\": \"word=kesinlikle\", \"orientation\": \"v\", \"showlegend\": true, \"textposition\": \"auto\", \"type\": \"bar\", \"x\": [\"kesinlikle\"], \"xaxis\": \"x\", \"y\": [2112], \"yaxis\": \"y\"}, {\"alignmentgroup\": \"True\", \"hoverlabel\": {\"namelength\": 0}, \"hovertemplate\": \"word=%{x}<br>count=%{y}\", \"legendgroup\": \"word=boyle\", \"marker\": {\"color\": \"#FECB52\"}, \"name\": \"word=boyle\", \"offsetgroup\": \"word=boyle\", \"orientation\": \"v\", \"showlegend\": true, \"textposition\": \"auto\", \"type\": \"bar\", \"x\": [\"boyle\"], \"xaxis\": \"x\", \"y\": [2097], \"yaxis\": \"y\"}],\n",
              "                        {\"barmode\": \"relative\", \"height\": 500, \"legend\": {\"tracegroupgap\": 0}, \"showlegend\": false, \"template\": {\"data\": {\"bar\": [{\"error_x\": {\"color\": \"#2a3f5f\"}, \"error_y\": {\"color\": \"#2a3f5f\"}, \"marker\": {\"line\": {\"color\": \"#E5ECF6\", \"width\": 0.5}}, \"type\": \"bar\"}], \"barpolar\": [{\"marker\": {\"line\": {\"color\": \"#E5ECF6\", \"width\": 0.5}}, \"type\": \"barpolar\"}], \"carpet\": [{\"aaxis\": {\"endlinecolor\": \"#2a3f5f\", \"gridcolor\": \"white\", \"linecolor\": \"white\", \"minorgridcolor\": \"white\", \"startlinecolor\": \"#2a3f5f\"}, \"baxis\": {\"endlinecolor\": \"#2a3f5f\", \"gridcolor\": \"white\", \"linecolor\": \"white\", \"minorgridcolor\": \"white\", \"startlinecolor\": \"#2a3f5f\"}, \"type\": \"carpet\"}], \"choropleth\": [{\"colorbar\": {\"outlinewidth\": 0, \"ticks\": \"\"}, \"type\": \"choropleth\"}], \"contour\": [{\"colorbar\": {\"outlinewidth\": 0, \"ticks\": \"\"}, \"colorscale\": [[0.0, \"#0d0887\"], [0.1111111111111111, \"#46039f\"], [0.2222222222222222, \"#7201a8\"], [0.3333333333333333, \"#9c179e\"], [0.4444444444444444, \"#bd3786\"], [0.5555555555555556, \"#d8576b\"], [0.6666666666666666, \"#ed7953\"], [0.7777777777777778, \"#fb9f3a\"], [0.8888888888888888, \"#fdca26\"], [1.0, \"#f0f921\"]], \"type\": \"contour\"}], \"contourcarpet\": [{\"colorbar\": {\"outlinewidth\": 0, \"ticks\": \"\"}, \"type\": \"contourcarpet\"}], \"heatmap\": [{\"colorbar\": {\"outlinewidth\": 0, \"ticks\": \"\"}, \"colorscale\": [[0.0, \"#0d0887\"], [0.1111111111111111, \"#46039f\"], [0.2222222222222222, \"#7201a8\"], [0.3333333333333333, \"#9c179e\"], [0.4444444444444444, \"#bd3786\"], [0.5555555555555556, \"#d8576b\"], [0.6666666666666666, \"#ed7953\"], [0.7777777777777778, \"#fb9f3a\"], [0.8888888888888888, \"#fdca26\"], [1.0, \"#f0f921\"]], \"type\": \"heatmap\"}], \"heatmapgl\": [{\"colorbar\": {\"outlinewidth\": 0, \"ticks\": \"\"}, \"colorscale\": [[0.0, \"#0d0887\"], [0.1111111111111111, \"#46039f\"], [0.2222222222222222, \"#7201a8\"], [0.3333333333333333, \"#9c179e\"], [0.4444444444444444, \"#bd3786\"], [0.5555555555555556, \"#d8576b\"], [0.6666666666666666, \"#ed7953\"], [0.7777777777777778, \"#fb9f3a\"], [0.8888888888888888, \"#fdca26\"], [1.0, \"#f0f921\"]], \"type\": \"heatmapgl\"}], \"histogram\": [{\"marker\": {\"colorbar\": {\"outlinewidth\": 0, \"ticks\": \"\"}}, \"type\": \"histogram\"}], \"histogram2d\": [{\"colorbar\": {\"outlinewidth\": 0, \"ticks\": \"\"}, \"colorscale\": [[0.0, \"#0d0887\"], [0.1111111111111111, \"#46039f\"], [0.2222222222222222, \"#7201a8\"], [0.3333333333333333, \"#9c179e\"], [0.4444444444444444, \"#bd3786\"], [0.5555555555555556, \"#d8576b\"], [0.6666666666666666, \"#ed7953\"], [0.7777777777777778, \"#fb9f3a\"], [0.8888888888888888, \"#fdca26\"], [1.0, \"#f0f921\"]], \"type\": \"histogram2d\"}], \"histogram2dcontour\": [{\"colorbar\": {\"outlinewidth\": 0, \"ticks\": \"\"}, \"colorscale\": [[0.0, \"#0d0887\"], [0.1111111111111111, \"#46039f\"], [0.2222222222222222, \"#7201a8\"], [0.3333333333333333, \"#9c179e\"], [0.4444444444444444, \"#bd3786\"], [0.5555555555555556, \"#d8576b\"], [0.6666666666666666, \"#ed7953\"], [0.7777777777777778, \"#fb9f3a\"], [0.8888888888888888, \"#fdca26\"], [1.0, \"#f0f921\"]], \"type\": \"histogram2dcontour\"}], \"mesh3d\": [{\"colorbar\": {\"outlinewidth\": 0, \"ticks\": \"\"}, \"type\": \"mesh3d\"}], \"parcoords\": [{\"line\": {\"colorbar\": {\"outlinewidth\": 0, \"ticks\": \"\"}}, \"type\": \"parcoords\"}], \"pie\": [{\"automargin\": true, \"type\": \"pie\"}], \"scatter\": [{\"marker\": {\"colorbar\": {\"outlinewidth\": 0, \"ticks\": \"\"}}, \"type\": \"scatter\"}], \"scatter3d\": [{\"line\": {\"colorbar\": {\"outlinewidth\": 0, \"ticks\": \"\"}}, \"marker\": {\"colorbar\": {\"outlinewidth\": 0, \"ticks\": \"\"}}, \"type\": \"scatter3d\"}], \"scattercarpet\": [{\"marker\": {\"colorbar\": {\"outlinewidth\": 0, \"ticks\": \"\"}}, \"type\": \"scattercarpet\"}], \"scattergeo\": [{\"marker\": {\"colorbar\": {\"outlinewidth\": 0, \"ticks\": \"\"}}, \"type\": \"scattergeo\"}], \"scattergl\": [{\"marker\": {\"colorbar\": {\"outlinewidth\": 0, \"ticks\": \"\"}}, \"type\": \"scattergl\"}], \"scattermapbox\": [{\"marker\": {\"colorbar\": {\"outlinewidth\": 0, \"ticks\": \"\"}}, \"type\": \"scattermapbox\"}], \"scatterpolar\": [{\"marker\": {\"colorbar\": {\"outlinewidth\": 0, \"ticks\": \"\"}}, \"type\": \"scatterpolar\"}], \"scatterpolargl\": [{\"marker\": {\"colorbar\": {\"outlinewidth\": 0, \"ticks\": \"\"}}, \"type\": \"scatterpolargl\"}], \"scatterternary\": [{\"marker\": {\"colorbar\": {\"outlinewidth\": 0, \"ticks\": \"\"}}, \"type\": \"scatterternary\"}], \"surface\": [{\"colorbar\": {\"outlinewidth\": 0, \"ticks\": \"\"}, \"colorscale\": [[0.0, \"#0d0887\"], [0.1111111111111111, \"#46039f\"], [0.2222222222222222, \"#7201a8\"], [0.3333333333333333, \"#9c179e\"], [0.4444444444444444, \"#bd3786\"], [0.5555555555555556, \"#d8576b\"], [0.6666666666666666, \"#ed7953\"], [0.7777777777777778, \"#fb9f3a\"], [0.8888888888888888, \"#fdca26\"], [1.0, \"#f0f921\"]], \"type\": \"surface\"}], \"table\": [{\"cells\": {\"fill\": {\"color\": \"#EBF0F8\"}, \"line\": {\"color\": \"white\"}}, \"header\": {\"fill\": {\"color\": \"#C8D4E3\"}, \"line\": {\"color\": \"white\"}}, \"type\": \"table\"}]}, \"layout\": {\"annotationdefaults\": {\"arrowcolor\": \"#2a3f5f\", \"arrowhead\": 0, \"arrowwidth\": 1}, \"coloraxis\": {\"colorbar\": {\"outlinewidth\": 0, \"ticks\": \"\"}}, \"colorscale\": {\"diverging\": [[0, \"#8e0152\"], [0.1, \"#c51b7d\"], [0.2, \"#de77ae\"], [0.3, \"#f1b6da\"], [0.4, \"#fde0ef\"], [0.5, \"#f7f7f7\"], [0.6, \"#e6f5d0\"], [0.7, \"#b8e186\"], [0.8, \"#7fbc41\"], [0.9, \"#4d9221\"], [1, \"#276419\"]], \"sequential\": [[0.0, \"#0d0887\"], [0.1111111111111111, \"#46039f\"], [0.2222222222222222, \"#7201a8\"], [0.3333333333333333, \"#9c179e\"], [0.4444444444444444, \"#bd3786\"], [0.5555555555555556, \"#d8576b\"], [0.6666666666666666, \"#ed7953\"], [0.7777777777777778, \"#fb9f3a\"], [0.8888888888888888, \"#fdca26\"], [1.0, \"#f0f921\"]], \"sequentialminus\": [[0.0, \"#0d0887\"], [0.1111111111111111, \"#46039f\"], [0.2222222222222222, \"#7201a8\"], [0.3333333333333333, \"#9c179e\"], [0.4444444444444444, \"#bd3786\"], [0.5555555555555556, \"#d8576b\"], [0.6666666666666666, \"#ed7953\"], [0.7777777777777778, \"#fb9f3a\"], [0.8888888888888888, \"#fdca26\"], [1.0, \"#f0f921\"]]}, \"colorway\": [\"#636efa\", \"#EF553B\", \"#00cc96\", \"#ab63fa\", \"#FFA15A\", \"#19d3f3\", \"#FF6692\", \"#B6E880\", \"#FF97FF\", \"#FECB52\"], \"font\": {\"color\": \"#2a3f5f\"}, \"geo\": {\"bgcolor\": \"white\", \"lakecolor\": \"white\", \"landcolor\": \"#E5ECF6\", \"showlakes\": true, \"showland\": true, \"subunitcolor\": \"white\"}, \"hoverlabel\": {\"align\": \"left\"}, \"hovermode\": \"closest\", \"mapbox\": {\"style\": \"light\"}, \"paper_bgcolor\": \"white\", \"plot_bgcolor\": \"#E5ECF6\", \"polar\": {\"angularaxis\": {\"gridcolor\": \"white\", \"linecolor\": \"white\", \"ticks\": \"\"}, \"bgcolor\": \"#E5ECF6\", \"radialaxis\": {\"gridcolor\": \"white\", \"linecolor\": \"white\", \"ticks\": \"\"}}, \"scene\": {\"xaxis\": {\"backgroundcolor\": \"#E5ECF6\", \"gridcolor\": \"white\", \"gridwidth\": 2, \"linecolor\": \"white\", \"showbackground\": true, \"ticks\": \"\", \"zerolinecolor\": \"white\"}, \"yaxis\": {\"backgroundcolor\": \"#E5ECF6\", \"gridcolor\": \"white\", \"gridwidth\": 2, \"linecolor\": \"white\", \"showbackground\": true, \"ticks\": \"\", \"zerolinecolor\": \"white\"}, \"zaxis\": {\"backgroundcolor\": \"#E5ECF6\", \"gridcolor\": \"white\", \"gridwidth\": 2, \"linecolor\": \"white\", \"showbackground\": true, \"ticks\": \"\", \"zerolinecolor\": \"white\"}}, \"shapedefaults\": {\"line\": {\"color\": \"#2a3f5f\"}}, \"ternary\": {\"aaxis\": {\"gridcolor\": \"white\", \"linecolor\": \"white\", \"ticks\": \"\"}, \"baxis\": {\"gridcolor\": \"white\", \"linecolor\": \"white\", \"ticks\": \"\"}, \"bgcolor\": \"#E5ECF6\", \"caxis\": {\"gridcolor\": \"white\", \"linecolor\": \"white\", \"ticks\": \"\"}}, \"title\": {\"x\": 0.05}, \"xaxis\": {\"automargin\": true, \"gridcolor\": \"white\", \"linecolor\": \"white\", \"ticks\": \"\", \"title\": {\"standoff\": 15}, \"zerolinecolor\": \"white\", \"zerolinewidth\": 2}, \"yaxis\": {\"automargin\": true, \"gridcolor\": \"white\", \"linecolor\": \"white\", \"ticks\": \"\", \"title\": {\"standoff\": 15}, \"zerolinecolor\": \"white\", \"zerolinewidth\": 2}}}, \"title\": {\"text\": \"Most common 20 words\"}, \"width\": 800, \"xaxis\": {\"anchor\": \"y\", \"categoryarray\": [\"film\", \"filmi\", \"iyi\", \"filmin\", \"guzel\", \"kotu\", \"olarak\", \"filmde\", \"degil\", \"var\", \"yok\", \"filme\", \"olan\", \"sonra\", \"gercekten\", \"zaman\", \"son\", \"olmus\", \"kesinlikle\", \"boyle\"], \"categoryorder\": \"array\", \"domain\": [0.0, 1.0], \"title\": {\"text\": \"word\"}}, \"yaxis\": {\"anchor\": \"x\", \"domain\": [0.0, 1.0], \"title\": {\"text\": \"count\"}}},\n",
              "                        {\"responsive\": true}\n",
              "                    ).then(function(){\n",
              "                            \n",
              "var gd = document.getElementById('620bc3fb-1e78-4128-a527-60e8059aa026');\n",
              "var x = new MutationObserver(function (mutations, observer) {{\n",
              "        var display = window.getComputedStyle(gd).display;\n",
              "        if (!display || display === 'none') {{\n",
              "            console.log([gd, 'removed!']);\n",
              "            Plotly.purge(gd);\n",
              "            observer.disconnect();\n",
              "        }}\n",
              "}});\n",
              "\n",
              "// Listen for the removal of the full notebook cells\n",
              "var notebookContainer = gd.closest('#notebook-container');\n",
              "if (notebookContainer) {{\n",
              "    x.observe(notebookContainer, {childList: true});\n",
              "}}\n",
              "\n",
              "// Listen for the clearing of the current output cell\n",
              "var outputEl = gd.closest('.output');\n",
              "if (outputEl) {{\n",
              "    x.observe(outputEl, {childList: true});\n",
              "}}\n",
              "\n",
              "                        })\n",
              "                };\n",
              "                \n",
              "            </script>\n",
              "        </div>\n",
              "</body>\n",
              "</html>"
            ]
          },
          "metadata": {
            "tags": []
          }
        }
      ]
    },
    {
      "cell_type": "markdown",
      "metadata": {
        "id": "BhQqLxsAcj8X"
      },
      "source": [
        "### 2. Eğitim ve test verisini hazırlamak"
      ]
    },
    {
      "cell_type": "code",
      "metadata": {
        "id": "_RZe2SiYct6c"
      },
      "source": [
        "x = df['comment']\n",
        "y = df['sentiment'].values.reshape(-1,1)"
      ],
      "execution_count": 29,
      "outputs": []
    },
    {
      "cell_type": "code",
      "metadata": {
        "id": "6RrEuCT3M-w6"
      },
      "source": [
        "from sklearn.model_selection import train_test_split\n",
        "x_train, x_test, y_train, y_test = train_test_split(x,y,test_size=0.3, random_state = 42)\n",
        "\n",
        "# Tokenizer'ın doğru çalışabilmesi için train ve test verilerini array'e çevirmek gerekiyor\n",
        "x_train = np.array(x_train.values.tolist())\n",
        "x_test = np.array(x_test.values.tolist())"
      ],
      "execution_count": 30,
      "outputs": []
    },
    {
      "cell_type": "markdown",
      "metadata": {
        "id": "0uSTkrcbePg6"
      },
      "source": [
        "#### 2.1 Makine Öğrenmesi Metotlarının Kullanılması"
      ]
    },
    {
      "cell_type": "code",
      "metadata": {
        "colab": {
          "base_uri": "https://localhost:8080/",
          "height": 1000
        },
        "id": "N6cCt8lGxFZ2",
        "outputId": "befda83b-6064-4717-d17d-c6a6a6747bbe"
      },
      "source": [
        "from sklearn.feature_extraction.text import TfidfVectorizer\n",
        "from sklearn.naive_bayes import BernoulliNB\n",
        "from sklearn.svm import LinearSVC\n",
        "from sklearn.ensemble import RandomForestClassifier\n",
        "from sklearn import metrics\n",
        "from sklearn.model_selection import cross_val_score\n",
        "from sklearn.metrics import classification_report\n",
        "from sklearn.metrics import confusion_matrix\n",
        "from mlxtend.plotting import plot_confusion_matrix\n",
        "\n",
        "#Makine ögrenimi metodlarında kullancağımız veriyi vektörize ediyoruz\n",
        "model_vectorizer = TfidfVectorizer()\n",
        "tfidf_train = model_vectorizer.fit_transform(x_train)\n",
        "tfidf_test = model_vectorizer.transform(x_test)\n",
        "\n",
        "#3 adet makine öğrenmesi yöntemi seçiyoruz, bunlar üzerinde denemeler yapıp karşılaştırmalarda bulunacağız\n",
        "models = [\n",
        "    RandomForestClassifier(n_estimators=200, max_depth=3, random_state=0),\n",
        "    LinearSVC(),\n",
        "    BernoulliNB()\n",
        "]\n",
        "\n",
        "fpr_values = []\n",
        "tpr_values = []\n",
        "for model in models:\n",
        "\n",
        "  model_name = model.__class__.__name__\n",
        "  print(\"Model ismi:\", model_name)\n",
        "  mlmodel = model\n",
        "  mlmodel.fit(tfidf_train, y_train.ravel())\n",
        "\n",
        "  # ACC score\n",
        "  best_accuracy = cross_val_score(mlmodel, tfidf_test, y_test.ravel(), cv=10, scoring='accuracy').max()\n",
        "  print(\"Accuracy:\",best_accuracy)\n",
        "\n",
        "  y_pred = mlmodel.predict(tfidf_test)\n",
        "  # Confusion Matrix'i özel bir görselleştirme metoduyla çağırıyoruz (mlextend kütüphanesinden)\n",
        "  figure, ax = plot_confusion_matrix(conf_mat = confusion_matrix(y_test, y_pred),\n",
        "                                   show_absolute = False,\n",
        "                                   show_normed = True,\n",
        "                                   colorbar = True)\n",
        "    \n",
        "  plt.show()\n",
        "  \n",
        "  fpr, tpr, threshold = metrics.roc_curve(y_test, y_pred)\n",
        "  fpr_values.append(fpr)\n",
        "  tpr_values.append(tpr)\n",
        "\n",
        "  # Sınıflandırma Raporu\n",
        "  cr = classification_report(y_test, y_pred)\n",
        "  print(\"\\n\\nClassification Report\\n\")\n",
        "  print(cr)\n",
        "\n"
      ],
      "execution_count": 31,
      "outputs": [
        {
          "output_type": "stream",
          "text": [
            "Model ismi: RandomForestClassifier\n",
            "Accuracy: 0.7930204572803851\n"
          ],
          "name": "stdout"
        },
        {
          "output_type": "display_data",
          "data": {
            "image/png": "[encoded data removed]",
            "text/plain": [
              "<Figure size 432x288 with 2 Axes>"
            ]
          },
          "metadata": {
            "tags": [],
            "needs_background": "light"
          }
        },
        {
          "output_type": "stream",
          "text": [
            "\n",
            "\n",
            "Classification Report\n",
            "\n",
            "              precision    recall  f1-score   support\n",
            "\n",
            "           0       0.82      0.71      0.76      4147\n",
            "           1       0.75      0.84      0.79      4169\n",
            "\n",
            "    accuracy                           0.78      8316\n",
            "   macro avg       0.78      0.78      0.78      8316\n",
            "weighted avg       0.78      0.78      0.78      8316\n",
            "\n",
            "Model ismi: LinearSVC\n",
            "Accuracy: 0.8315282791817088\n"
          ],
          "name": "stdout"
        },
        {
          "output_type": "display_data",
          "data": {
            "image/png": "[encoded data removed]",
            "text/plain": [
              "<Figure size 432x288 with 2 Axes>"
            ]
          },
          "metadata": {
            "tags": [],
            "needs_background": "light"
          }
        },
        {
          "output_type": "stream",
          "text": [
            "\n",
            "\n",
            "Classification Report\n",
            "\n",
            "              precision    recall  f1-score   support\n",
            "\n",
            "           0       0.83      0.82      0.82      4147\n",
            "           1       0.82      0.83      0.83      4169\n",
            "\n",
            "    accuracy                           0.83      8316\n",
            "   macro avg       0.83      0.83      0.83      8316\n",
            "weighted avg       0.83      0.83      0.83      8316\n",
            "\n",
            "Model ismi: BernoulliNB\n",
            "Accuracy: 0.7980769230769231\n"
          ],
          "name": "stdout"
        },
        {
          "output_type": "display_data",
          "data": {
            "image/png": "[encoded data removed]",
            "text/plain": [
              "<Figure size 432x288 with 2 Axes>"
            ]
          },
          "metadata": {
            "tags": [],
            "needs_background": "light"
          }
        },
        {
          "output_type": "stream",
          "text": [
            "\n",
            "\n",
            "Classification Report\n",
            "\n",
            "              precision    recall  f1-score   support\n",
            "\n",
            "           0       0.69      0.90      0.78      4147\n",
            "           1       0.86      0.59      0.70      4169\n",
            "\n",
            "    accuracy                           0.75      8316\n",
            "   macro avg       0.78      0.75      0.74      8316\n",
            "weighted avg       0.78      0.75      0.74      8316\n",
            "\n"
          ],
          "name": "stdout"
        }
      ]
    },
    {
      "cell_type": "markdown",
      "metadata": {
        "id": "psVXnjgMea2V"
      },
      "source": [
        "#### 2.2 Derin Öğrenme Modelinin Kurulması"
      ]
    },
    {
      "cell_type": "code",
      "metadata": {
        "colab": {
          "base_uri": "https://localhost:8080/"
        },
        "id": "d63dGzgEoZHW",
        "outputId": "892026f0-df96-4c50-adb6-8171133ca57b"
      },
      "source": [
        "from keras_preprocessing.text import Tokenizer\n",
        "tokenizer = Tokenizer()\n",
        "tokenizer.fit_on_texts(x_train)\n",
        "word_idx = tokenizer.word_index\n",
        "size = len(word_idx)+1\n",
        "print(\"Verisetinden alınan toplam sample sayısı: \", size)\n",
        "\n",
        "#text to sequences\n",
        "x_train = tokenizer.texts_to_sequences(x_train)\n",
        "x_test = tokenizer.texts_to_sequences(x_test)"
      ],
      "execution_count": 32,
      "outputs": [
        {
          "output_type": "stream",
          "text": [
            "Verisetinden alınan toplam sample sayısı:  93521\n"
          ],
          "name": "stdout"
        }
      ]
    },
    {
      "cell_type": "code",
      "metadata": {
        "id": "vj3qjNc6oau7"
      },
      "source": [
        "#Reviewların aynı boyutta olmasını garanti altına almak gerek, aksi halde model oluşturulurken sorun çıkabilir\n",
        "from tensorflow.keras.preprocessing.sequence import pad_sequences\n",
        "fixed_length = 60\n",
        "x_train = pad_sequences(x_train, padding='post', maxlen=fixed_length)\n",
        "x_test = pad_sequences(x_test, padding='post', maxlen=fixed_length)"
      ],
      "execution_count": 33,
      "outputs": []
    },
    {
      "cell_type": "code",
      "metadata": {
        "colab": {
          "base_uri": "https://localhost:8080/"
        },
        "id": "_d88VWdifoLk",
        "outputId": "cb5ef5c3-8b81-4282-b8bf-7237936ad8da"
      },
      "source": [
        "from tensorflow.keras.layers import LSTM, Dense, Embedding, Bidirectional\n",
        "from tensorflow.keras.models import Sequential\n",
        "from keras import optimizers\n",
        "  \n",
        "adam = optimizers.Adam(learning_rate=1e-4, beta_1=0.9, beta_2=0.99, decay=0)\n",
        "model = Sequential()\n",
        "model.add(Embedding(size, 8, input_length = fixed_length))\n",
        "model.add(Bidirectional(LSTM(16, return_sequences=True, dropout=1e-4)))\n",
        "model.add(Bidirectional(LSTM(16, return_sequences=False, dropout=1e-3)))\n",
        "model.add(Dense(1, activation = \"sigmoid\"))\n",
        "model.compile(optimizer=adam, loss='binary_crossentropy',metrics=['acc'])\n",
        "print(model.summary())"
      ],
      "execution_count": 34,
      "outputs": [
        {
          "output_type": "stream",
          "text": [
            "Model: \"sequential\"\n",
            "_________________________________________________________________\n",
            "Layer (type)                 Output Shape              Param #   \n",
            "=================================================================\n",
            "embedding (Embedding)        (None, 60, 8)             748168    \n",
            "_________________________________________________________________\n",
            "bidirectional (Bidirectional (None, 60, 32)            3200      \n",
            "_________________________________________________________________\n",
            "bidirectional_1 (Bidirection (None, 32)                6272      \n",
            "_________________________________________________________________\n",
            "dense (Dense)                (None, 1)                 33        \n",
            "=================================================================\n",
            "Total params: 757,673\n",
            "Trainable params: 757,673\n",
            "Non-trainable params: 0\n",
            "_________________________________________________________________\n",
            "None\n"
          ],
          "name": "stdout"
        }
      ]
    },
    {
      "cell_type": "code",
      "metadata": {
        "colab": {
          "base_uri": "https://localhost:8080/"
        },
        "id": "9ceCPXzXFOhn",
        "outputId": "cc57a532-437e-48ad-9acf-53a8b230cfaf"
      },
      "source": [
        "history = model.fit(x_train,y_train,batch_size=128,epochs=5,verbose=1,validation_data=(x_test,y_test))"
      ],
      "execution_count": 35,
      "outputs": [
        {
          "output_type": "stream",
          "text": [
            "Epoch 1/5\n",
            "152/152 [==============================] - 32s 153ms/step - loss: 0.6929 - acc: 0.5366 - val_loss: 0.6923 - val_acc: 0.5964\n",
            "Epoch 2/5\n",
            "152/152 [==============================] - 20s 133ms/step - loss: 0.6902 - acc: 0.6414 - val_loss: 0.6869 - val_acc: 0.6675\n",
            "Epoch 3/5\n",
            "152/152 [==============================] - 20s 132ms/step - loss: 0.6606 - acc: 0.6712 - val_loss: 0.6112 - val_acc: 0.6722\n",
            "Epoch 4/5\n",
            "152/152 [==============================] - 20s 130ms/step - loss: 0.4998 - acc: 0.8223 - val_loss: 0.4888 - val_acc: 0.7929\n",
            "Epoch 5/5\n",
            "152/152 [==============================] - 21s 140ms/step - loss: 0.4009 - acc: 0.8544 - val_loss: 0.4413 - val_acc: 0.8098\n"
          ],
          "name": "stdout"
        }
      ]
    },
    {
      "cell_type": "code",
      "metadata": {
        "colab": {
          "base_uri": "https://localhost:8080/",
          "height": 295
        },
        "id": "ADnKC7tkFRLH",
        "outputId": "e6fb28e6-fa23-461f-9ba6-1c5a62df5ed1"
      },
      "source": [
        "plt.plot(history.history['loss'])\n",
        "plt.plot(history.history['val_loss'])\n",
        "plt.title('model train vs validation loss')\n",
        "plt.ylabel('loss')\n",
        "plt.xlabel('epoch')\n",
        "plt.legend(['train', 'validation'], loc='upper right')\n",
        "plt.show()"
      ],
      "execution_count": 36,
      "outputs": [
        {
          "output_type": "display_data",
          "data": {
            "image/png": "[encoded data removed]",
            "text/plain": [
              "<Figure size 432x288 with 1 Axes>"
            ]
          },
          "metadata": {
            "tags": [],
            "needs_background": "light"
          }
        }
      ]
    },
    {
      "cell_type": "code",
      "metadata": {
        "colab": {
          "base_uri": "https://localhost:8080/",
          "height": 295
        },
        "id": "w5xW6ksgFSSp",
        "outputId": "7a9787c7-db52-4fd7-d3b3-a8d72a2f16bf"
      },
      "source": [
        "plt.plot(history.history['acc'])\n",
        "plt.plot(history.history['val_acc'])\n",
        "plt.title('model train vs validation accuracy')\n",
        "plt.ylabel('accuracy')\n",
        "plt.xlabel('epoch')\n",
        "plt.legend(['train', 'validation'], loc='upper right')\n",
        "plt.show()"
      ],
      "execution_count": 37,
      "outputs": [
        {
          "output_type": "display_data",
          "data": {
            "image/png": "[encoded data removed]",
            "text/plain": [
              "<Figure size 432x288 with 1 Axes>"
            ]
          },
          "metadata": {
            "tags": [],
            "needs_background": "light"
          }
        }
      ]
    },
    {
      "cell_type": "code",
      "metadata": {
        "id": "-2MtKRC7l3YM"
      },
      "source": [
        "y_pred = model.predict(x_test)"
      ],
      "execution_count": 38,
      "outputs": []
    },
    {
      "cell_type": "code",
      "metadata": {
        "id": "1bSwhaAAeM6K"
      },
      "source": [
        "  fpr, tpr, threshold = metrics.roc_curve(y_test, y_pred)\n",
        "  fpr_values.append(fpr)\n",
        "  tpr_values.append(tpr)"
      ],
      "execution_count": 39,
      "outputs": []
    },
    {
      "cell_type": "code",
      "metadata": {
        "colab": {
          "base_uri": "https://localhost:8080/",
          "height": 295
        },
        "id": "LD4nMYjseIk-",
        "outputId": "cc6ed262-8bdc-4346-ff94-1b9e56584b4a"
      },
      "source": [
        "label = ['Random Forest', 'SVC', 'Naive Bayes', 'LSTM']\n",
        "for i in range(4):\n",
        "    fpr = fpr_values[i]\n",
        "    tpr = tpr_values[i]\n",
        "    roc_auc = metrics.auc(fpr, tpr)\n",
        "    plt.title('Receiver Operating Characteristic')\n",
        "    plt.plot(fpr, tpr, label = ('AUC {} = %0.2f' % roc_auc).format(label[i]))\n",
        "    plt.legend(loc = 'lower right')\n",
        "    plt.plot([0, 1], [0, 1],'r--')\n",
        "    plt.xlim([0, 1])\n",
        "    plt.ylim([0, 1])\n",
        "    plt.ylabel('True Positive Rate')\n",
        "    plt.xlabel('False Positive Rate')"
      ],
      "execution_count": 40,
      "outputs": [
        {
          "output_type": "display_data",
          "data": {
            "image/png": "[encoded data removed]",
            "text/plain": [
              "<Figure size 432x288 with 1 Axes>"
            ]
          },
          "metadata": {
            "tags": [],
            "needs_background": "light"
          }
        }
      ]
    },
    {
      "cell_type": "markdown",
      "metadata": {
        "id": "O0pdHc0kSfqy"
      },
      "source": [
        "### 3. Yeni yorumlardan duygu analizinin yapılması"
      ]
    },
    {
      "cell_type": "code",
      "metadata": {
        "id": "NtT0TMzxD33b"
      },
      "source": [
        "def predict_sentiment(text):\n",
        "  text = tokenizer.texts_to_sequences([text])\n",
        "  padded = pad_sequences(text, maxlen=fixed_length)\n",
        "  res = model.predict(padded, batch_size=1)\n",
        "  if res < 0.5:\n",
        "    print(\"Negatif Yorum\")\n",
        "  else: \n",
        "    print(\"Pozitif Yorum\")\n",
        "  return res"
      ],
      "execution_count": 41,
      "outputs": []
    },
    {
      "cell_type": "code",
      "metadata": {
        "colab": {
          "base_uri": "https://localhost:8080/"
        },
        "id": "Ombxy_eBpqke",
        "outputId": "347cdb3a-d3ff-47a3-83c8-cb4329aff905"
      },
      "source": [
        "text = 'Senaryo çok zayıftı ve filmi izlerken çok sıkıldım.'\n",
        "text = remove_words(text, STOPWORDS)\n",
        "text = replace_turkish_char(text)\n",
        "predict_sentiment(text)"
      ],
      "execution_count": 42,
      "outputs": [
        {
          "output_type": "stream",
          "text": [
            "Negatif Yorum\n"
          ],
          "name": "stdout"
        },
        {
          "output_type": "execute_result",
          "data": {
            "text/plain": [
              "array([[0.24919888]], dtype=float32)"
            ]
          },
          "metadata": {
            "tags": []
          },
          "execution_count": 42
        }
      ]
    },
    {
      "cell_type": "code",
      "metadata": {
        "colab": {
          "base_uri": "https://localhost:8080/"
        },
        "id": "HOxi7OsoFDCa",
        "outputId": "33379813-7c17-47d8-fb78-8085b30e994a"
      },
      "source": [
        "text = 'Baya iyiydi çok sevdim.'\n",
        "text = remove_words(text, STOPWORDS)\n",
        "text = replace_turkish_char(text)\n",
        "predict_sentiment(text)"
      ],
      "execution_count": 43,
      "outputs": [
        {
          "output_type": "stream",
          "text": [
            "Pozitif Yorum\n"
          ],
          "name": "stdout"
        },
        {
          "output_type": "execute_result",
          "data": {
            "text/plain": [
              "array([[0.8268376]], dtype=float32)"
            ]
          },
          "metadata": {
            "tags": []
          },
          "execution_count": 43
        }
      ]
    },
    {
      "cell_type": "code",
      "metadata": {
        "colab": {
          "base_uri": "https://localhost:8080/"
        },
        "id": "kQqRwULwkrIb",
        "outputId": "d12ff57d-328b-44e7-c8e3-ed818c0fafc7"
      },
      "source": [
        "text = 'Oyuncular ve senaryo şahaneydi filmi tekrar tekrar izleyesim geldi. Herkese öneriyorum kesinlikle izlemelisiniz.'\n",
        "text = remove_words(text, STOPWORDS)\n",
        "text = replace_turkish_char(text)\n",
        "predict_sentiment(text)"
      ],
      "execution_count": 44,
      "outputs": [
        {
          "output_type": "stream",
          "text": [
            "Pozitif Yorum\n"
          ],
          "name": "stdout"
        },
        {
          "output_type": "execute_result",
          "data": {
            "text/plain": [
              "array([[0.8313397]], dtype=float32)"
            ]
          },
          "metadata": {
            "tags": []
          },
          "execution_count": 44
        }
      ]
    },
    {
      "cell_type": "code",
      "metadata": {
        "colab": {
          "base_uri": "https://localhost:8080/"
        },
        "id": "kH26MtPD6TjZ",
        "outputId": "c38ec24f-dac1-4d44-a296-ca95b9d42cf8"
      },
      "source": [
        "text = 'Berbat'\n",
        "text = remove_words(text, STOPWORDS)\n",
        "text = replace_turkish_char(text)\n",
        "predict_sentiment(text)"
      ],
      "execution_count": 45,
      "outputs": [
        {
          "output_type": "stream",
          "text": [
            "Negatif Yorum\n"
          ],
          "name": "stdout"
        },
        {
          "output_type": "execute_result",
          "data": {
            "text/plain": [
              "array([[0.25302058]], dtype=float32)"
            ]
          },
          "metadata": {
            "tags": []
          },
          "execution_count": 45
        }
      ]
    },
    {
      "cell_type": "code",
      "metadata": {
        "colab": {
          "base_uri": "https://localhost:8080/"
        },
        "id": "-lznzxKK_hAd",
        "outputId": "b528c0eb-a491-461d-d8db-e9e6ab800b21"
      },
      "source": [
        "text = 'İyi değildi.'\n",
        "text = remove_words(text, STOPWORDS)\n",
        "text = replace_turkish_char(text)\n",
        "predict_sentiment(text)"
      ],
      "execution_count": 46,
      "outputs": [
        {
          "output_type": "stream",
          "text": [
            "Negatif Yorum\n"
          ],
          "name": "stdout"
        },
        {
          "output_type": "execute_result",
          "data": {
            "text/plain": [
              "array([[0.32941526]], dtype=float32)"
            ]
          },
          "metadata": {
            "tags": []
          },
          "execution_count": 46
        }
      ]
    },
    {
      "cell_type": "code",
      "metadata": {
        "colab": {
          "base_uri": "https://localhost:8080/"
        },
        "id": "it1NLdx9eTxF",
        "outputId": "c3a59e68-3276-43ac-ea70-54cec1060907"
      },
      "source": [
        "text = 'Başarılı bir filmdi ve oldukça başarılı senaryosu vardı.'\n",
        "text = remove_words(text, STOPWORDS)\n",
        "text = replace_turkish_char(text)\n",
        "predict_sentiment(text)"
      ],
      "execution_count": 47,
      "outputs": [
        {
          "output_type": "stream",
          "text": [
            "Pozitif Yorum\n"
          ],
          "name": "stdout"
        },
        {
          "output_type": "execute_result",
          "data": {
            "text/plain": [
              "array([[0.8405728]], dtype=float32)"
            ]
          },
          "metadata": {
            "tags": []
          },
          "execution_count": 47
        }
      ]
    },
    {
      "cell_type": "code",
      "metadata": {
        "colab": {
          "base_uri": "https://localhost:8080/"
        },
        "id": "0nsLfJ94hYpO",
        "outputId": "97507335-7b73-459d-e61c-f1f559ee610c"
      },
      "source": [
        "text = 'Oldukça başarılı senaryosu vardı.'\n",
        "text = remove_words(text, STOPWORDS)\n",
        "text = replace_turkish_char(text)\n",
        "predict_sentiment(text)"
      ],
      "execution_count": 48,
      "outputs": [
        {
          "output_type": "stream",
          "text": [
            "Pozitif Yorum\n"
          ],
          "name": "stdout"
        },
        {
          "output_type": "execute_result",
          "data": {
            "text/plain": [
              "array([[0.83543116]], dtype=float32)"
            ]
          },
          "metadata": {
            "tags": []
          },
          "execution_count": 48
        }
      ]
    },
    {
      "cell_type": "code",
      "metadata": {
        "id": "txo3qIpBLdsc"
      },
      "source": [
        "y_pred = [0 if pred < 0.5 else 1 for pred in y_pred]"
      ],
      "execution_count": 49,
      "outputs": []
    },
    {
      "cell_type": "code",
      "metadata": {
        "colab": {
          "base_uri": "https://localhost:8080/",
          "height": 279
        },
        "id": "OXbgJNLAKf7k",
        "outputId": "3dab5094-b1d9-46a8-c8f5-215e2b8cb356"
      },
      "source": [
        "cm = metrics.confusion_matrix(y_test, y_pred)\n",
        "\n",
        "figure, ax = plot_confusion_matrix(conf_mat = cm,\n",
        "                                   show_absolute = False,\n",
        "                                   show_normed = True,\n",
        "                                   colorbar = True)\n",
        "\n",
        "plt.show()"
      ],
      "execution_count": 50,
      "outputs": [
        {
          "output_type": "display_data",
          "data": {
            "image/png": "[encoded data removed]",
            "text/plain": [
              "<Figure size 432x288 with 2 Axes>"
            ]
          },
          "metadata": {
            "tags": [],
            "needs_background": "light"
          }
        }
      ]
    },
    {
      "cell_type": "code",
      "metadata": {
        "colab": {
          "base_uri": "https://localhost:8080/"
        },
        "id": "nAjAtzkxs64q",
        "outputId": "724656e3-99ae-454a-8a84-ff0ec87b06f8"
      },
      "source": [
        "cr = classification_report(y_test, y_pred)\n",
        "print(\"\\n\\nClassification Report\\n\")\n",
        "print(cr)"
      ],
      "execution_count": 51,
      "outputs": [
        {
          "output_type": "stream",
          "text": [
            "\n",
            "\n",
            "Classification Report\n",
            "\n",
            "              precision    recall  f1-score   support\n",
            "\n",
            "           0       0.78      0.85      0.82      4147\n",
            "           1       0.84      0.76      0.80      4169\n",
            "\n",
            "    accuracy                           0.81      8316\n",
            "   macro avg       0.81      0.81      0.81      8316\n",
            "weighted avg       0.81      0.81      0.81      8316\n",
            "\n"
          ],
          "name": "stdout"
        }
      ]
    },
    {
      "cell_type": "code",
      "metadata": {
        "id": "BTuoVqEev8OD"
      },
      "source": [
        ""
      ],
      "execution_count": 51,
      "outputs": []
    }
  ]
}